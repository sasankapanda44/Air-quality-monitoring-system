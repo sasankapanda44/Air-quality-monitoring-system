{
  "cells": [
    {
      "cell_type": "code",
      "execution_count": null,
      "metadata": {
        "id": "Tn5LXcMAPOsO"
      },
      "outputs": [],
      "source": [
        "import numpy as np\n",
        "import matplotlib.pyplot as plt\n",
        "import pandas as pd\n",
        "\n",
        "dataset = pd.read_csv('./Dataset_new.csv')\n",
        "\n",
        "test_size = 0.2\n",
        "\n",
        "dataset_train = dataset.iloc[:int(len(dataset)*(1 - test_size)),:]\n",
        "\n",
        "\n",
        "\n",
        "\n",
        "df=dataset_train[['Avg_AQI']].values\n",
        "#training_set = df.iloc[:, 1:2].values\n",
        "#training_set = training_set.reshape(len(training_set),1)\n",
        "\n",
        "from sklearn.preprocessing import MinMaxScaler\n",
        "sc = MinMaxScaler(feature_range = (0, 1))\n",
        "training_set_scaled = sc.fit_transform(df)\n",
        "\n",
        "\n",
        "\n",
        "\n"
      ]
    },
    {
      "cell_type": "code",
      "source": [
        "X_train = []\n",
        "y_train = []\n",
        "for i in range(60, 1258):\n",
        "    X_train.append(training_set_scaled[i-60:i, 0])\n",
        "    y_train.append(training_set_scaled[i, 0])\n",
        "X_train, y_train = np.array(X_train), np.array(y_train)\n",
        "\n",
        "\n",
        "X_train = np.reshape(X_train, (X_train.shape[0], X_train.shape[1], 1))\n",
        "\n",
        "\n",
        "from keras.models import Sequential\n",
        "from keras.layers import Dense\n",
        "from keras.layers import LSTM\n",
        "from keras.layers import Dropout\n",
        "\n",
        "\n",
        "regressor = Sequential()\n",
        "\n",
        "regressor.add(LSTM(units = 50, return_sequences = True, input_shape = (X_train.shape[1], 1)))\n",
        "regressor.add(Dropout(0.2))\n",
        "\n",
        "\n",
        "regressor.add(LSTM(units = 50, return_sequences = True))\n",
        "regressor.add(Dropout(0.2))\n",
        "\n",
        "regressor.add(LSTM(units = 50, return_sequences = True))\n",
        "regressor.add(Dropout(0.2))\n",
        "\n",
        "regressor.add(LSTM(units = 50))\n",
        "regressor.add(Dropout(0.2))\n",
        "\n",
        "regressor.add(Dense(units = 1))\n",
        "\n",
        "regressor.compile(optimizer = 'adam', loss = 'mean_squared_error')\n",
        "\n"
      ],
      "metadata": {
        "id": "3VlqW6aw6GTP"
      },
      "execution_count": null,
      "outputs": []
    },
    {
      "cell_type": "code",
      "source": [
        "regressor.fit(X_train, y_train, epochs = 100, batch_size = 32)"
      ],
      "metadata": {
        "colab": {
          "base_uri": "https://localhost:8080/"
        },
        "id": "wCZKEpQP66j1",
        "outputId": "eb05c640-fbad-4389-ff37-e9131a195ed9"
      },
      "execution_count": null,
      "outputs": [
        {
          "output_type": "stream",
          "name": "stdout",
          "text": [
            "Epoch 1/100\n",
            "38/38 [==============================] - 13s 61ms/step - loss: 0.0693\n",
            "Epoch 2/100\n",
            "38/38 [==============================] - 2s 60ms/step - loss: 0.0081\n",
            "Epoch 3/100\n",
            "38/38 [==============================] - 2s 61ms/step - loss: 0.0060\n",
            "Epoch 4/100\n",
            "38/38 [==============================] - 2s 60ms/step - loss: 0.0066\n",
            "Epoch 5/100\n",
            "38/38 [==============================] - 2s 61ms/step - loss: 0.0062\n",
            "Epoch 6/100\n",
            "38/38 [==============================] - 3s 66ms/step - loss: 0.0057\n",
            "Epoch 7/100\n",
            "38/38 [==============================] - 2s 66ms/step - loss: 0.0057\n",
            "Epoch 8/100\n",
            "38/38 [==============================] - 2s 61ms/step - loss: 0.0049\n",
            "Epoch 9/100\n",
            "38/38 [==============================] - 2s 61ms/step - loss: 0.0049\n",
            "Epoch 10/100\n",
            "38/38 [==============================] - 2s 61ms/step - loss: 0.0048\n",
            "Epoch 11/100\n",
            "38/38 [==============================] - 2s 61ms/step - loss: 0.0049\n",
            "Epoch 12/100\n",
            "38/38 [==============================] - 2s 61ms/step - loss: 0.0051\n",
            "Epoch 13/100\n",
            "38/38 [==============================] - 2s 61ms/step - loss: 0.0044\n",
            "Epoch 14/100\n",
            "38/38 [==============================] - 2s 61ms/step - loss: 0.0045\n",
            "Epoch 15/100\n",
            "38/38 [==============================] - 2s 61ms/step - loss: 0.0041\n",
            "Epoch 16/100\n",
            "38/38 [==============================] - 2s 65ms/step - loss: 0.0048\n",
            "Epoch 17/100\n",
            "38/38 [==============================] - 2s 61ms/step - loss: 0.0046\n",
            "Epoch 18/100\n",
            "38/38 [==============================] - 2s 61ms/step - loss: 0.0040\n",
            "Epoch 19/100\n",
            "38/38 [==============================] - 2s 61ms/step - loss: 0.0038\n",
            "Epoch 20/100\n",
            "38/38 [==============================] - 2s 61ms/step - loss: 0.0040\n",
            "Epoch 21/100\n",
            "38/38 [==============================] - 2s 61ms/step - loss: 0.0045\n",
            "Epoch 22/100\n",
            "38/38 [==============================] - 2s 61ms/step - loss: 0.0041\n",
            "Epoch 23/100\n",
            "38/38 [==============================] - 2s 60ms/step - loss: 0.0039\n",
            "Epoch 24/100\n",
            "38/38 [==============================] - 2s 60ms/step - loss: 0.0041\n",
            "Epoch 25/100\n",
            "38/38 [==============================] - 2s 60ms/step - loss: 0.0034\n",
            "Epoch 26/100\n",
            "38/38 [==============================] - 2s 61ms/step - loss: 0.0038\n",
            "Epoch 27/100\n",
            "38/38 [==============================] - 2s 61ms/step - loss: 0.0034\n",
            "Epoch 28/100\n",
            "38/38 [==============================] - 2s 61ms/step - loss: 0.0035\n",
            "Epoch 29/100\n",
            "38/38 [==============================] - 2s 61ms/step - loss: 0.0031\n",
            "Epoch 30/100\n",
            "38/38 [==============================] - 2s 61ms/step - loss: 0.0030\n",
            "Epoch 31/100\n",
            "38/38 [==============================] - 2s 61ms/step - loss: 0.0031\n",
            "Epoch 32/100\n",
            "38/38 [==============================] - 2s 60ms/step - loss: 0.0031\n",
            "Epoch 33/100\n",
            "38/38 [==============================] - 2s 60ms/step - loss: 0.0031\n",
            "Epoch 34/100\n",
            "38/38 [==============================] - 2s 60ms/step - loss: 0.0029\n",
            "Epoch 35/100\n",
            "38/38 [==============================] - 2s 61ms/step - loss: 0.0030\n",
            "Epoch 36/100\n",
            "38/38 [==============================] - 2s 60ms/step - loss: 0.0029\n",
            "Epoch 37/100\n",
            "38/38 [==============================] - 2s 60ms/step - loss: 0.0030\n",
            "Epoch 38/100\n",
            "38/38 [==============================] - 2s 60ms/step - loss: 0.0029\n",
            "Epoch 39/100\n",
            "38/38 [==============================] - 2s 60ms/step - loss: 0.0026\n",
            "Epoch 40/100\n",
            "38/38 [==============================] - 2s 60ms/step - loss: 0.0028\n",
            "Epoch 41/100\n",
            "38/38 [==============================] - 2s 61ms/step - loss: 0.0025\n",
            "Epoch 42/100\n",
            "38/38 [==============================] - 2s 60ms/step - loss: 0.0025\n",
            "Epoch 43/100\n",
            "38/38 [==============================] - 2s 60ms/step - loss: 0.0023\n",
            "Epoch 44/100\n",
            "38/38 [==============================] - 2s 60ms/step - loss: 0.0025\n",
            "Epoch 45/100\n",
            "38/38 [==============================] - 2s 60ms/step - loss: 0.0026\n",
            "Epoch 46/100\n",
            "38/38 [==============================] - 2s 60ms/step - loss: 0.0029\n",
            "Epoch 47/100\n",
            "38/38 [==============================] - 2s 61ms/step - loss: 0.0028\n",
            "Epoch 48/100\n",
            "38/38 [==============================] - 2s 61ms/step - loss: 0.0022\n",
            "Epoch 49/100\n",
            "38/38 [==============================] - 2s 61ms/step - loss: 0.0024\n",
            "Epoch 50/100\n",
            "38/38 [==============================] - 2s 61ms/step - loss: 0.0024\n",
            "Epoch 51/100\n",
            "38/38 [==============================] - 2s 60ms/step - loss: 0.0022\n",
            "Epoch 52/100\n",
            "38/38 [==============================] - 2s 60ms/step - loss: 0.0022\n",
            "Epoch 53/100\n",
            "38/38 [==============================] - 2s 61ms/step - loss: 0.0027\n",
            "Epoch 54/100\n",
            "38/38 [==============================] - 2s 60ms/step - loss: 0.0021\n",
            "Epoch 55/100\n",
            "38/38 [==============================] - 2s 60ms/step - loss: 0.0021\n",
            "Epoch 56/100\n",
            "38/38 [==============================] - 2s 60ms/step - loss: 0.0020\n",
            "Epoch 57/100\n",
            "38/38 [==============================] - 2s 60ms/step - loss: 0.0019\n",
            "Epoch 58/100\n",
            "38/38 [==============================] - 2s 60ms/step - loss: 0.0020\n",
            "Epoch 59/100\n",
            "38/38 [==============================] - 2s 61ms/step - loss: 0.0023\n",
            "Epoch 60/100\n",
            "38/38 [==============================] - 2s 60ms/step - loss: 0.0018\n",
            "Epoch 61/100\n",
            "38/38 [==============================] - 2s 61ms/step - loss: 0.0018\n",
            "Epoch 62/100\n",
            "38/38 [==============================] - 2s 61ms/step - loss: 0.0019\n",
            "Epoch 63/100\n",
            "38/38 [==============================] - 2s 60ms/step - loss: 0.0019\n",
            "Epoch 64/100\n",
            "38/38 [==============================] - 2s 60ms/step - loss: 0.0018\n",
            "Epoch 65/100\n",
            "38/38 [==============================] - 2s 60ms/step - loss: 0.0019\n",
            "Epoch 66/100\n",
            "38/38 [==============================] - 2s 60ms/step - loss: 0.0018\n",
            "Epoch 67/100\n",
            "38/38 [==============================] - 2s 60ms/step - loss: 0.0017\n",
            "Epoch 68/100\n",
            "38/38 [==============================] - 2s 61ms/step - loss: 0.0016\n",
            "Epoch 69/100\n",
            "38/38 [==============================] - 2s 61ms/step - loss: 0.0019\n",
            "Epoch 70/100\n",
            "38/38 [==============================] - 2s 60ms/step - loss: 0.0019\n",
            "Epoch 71/100\n",
            "38/38 [==============================] - 2s 61ms/step - loss: 0.0016\n",
            "Epoch 72/100\n",
            "38/38 [==============================] - 2s 61ms/step - loss: 0.0017\n",
            "Epoch 73/100\n",
            "38/38 [==============================] - 2s 61ms/step - loss: 0.0017\n",
            "Epoch 74/100\n",
            "38/38 [==============================] - 2s 61ms/step - loss: 0.0015\n",
            "Epoch 75/100\n",
            "38/38 [==============================] - 2s 60ms/step - loss: 0.0015\n",
            "Epoch 76/100\n",
            "38/38 [==============================] - 2s 60ms/step - loss: 0.0016\n",
            "Epoch 77/100\n",
            "38/38 [==============================] - 2s 61ms/step - loss: 0.0014\n",
            "Epoch 78/100\n",
            "38/38 [==============================] - 2s 61ms/step - loss: 0.0015\n",
            "Epoch 79/100\n",
            "38/38 [==============================] - 2s 61ms/step - loss: 0.0017\n",
            "Epoch 80/100\n",
            "38/38 [==============================] - 2s 60ms/step - loss: 0.0015\n",
            "Epoch 81/100\n",
            "38/38 [==============================] - 2s 60ms/step - loss: 0.0015\n",
            "Epoch 82/100\n",
            "38/38 [==============================] - 2s 60ms/step - loss: 0.0014\n",
            "Epoch 83/100\n",
            "38/38 [==============================] - 2s 60ms/step - loss: 0.0014\n",
            "Epoch 84/100\n",
            "38/38 [==============================] - 2s 60ms/step - loss: 0.0015\n",
            "Epoch 85/100\n",
            "38/38 [==============================] - 2s 60ms/step - loss: 0.0014\n",
            "Epoch 86/100\n",
            "38/38 [==============================] - 2s 60ms/step - loss: 0.0015\n",
            "Epoch 87/100\n",
            "38/38 [==============================] - 2s 60ms/step - loss: 0.0013\n",
            "Epoch 88/100\n",
            "38/38 [==============================] - 2s 61ms/step - loss: 0.0013\n",
            "Epoch 89/100\n",
            "38/38 [==============================] - 2s 61ms/step - loss: 0.0014\n",
            "Epoch 90/100\n",
            "38/38 [==============================] - 2s 60ms/step - loss: 0.0012\n",
            "Epoch 91/100\n",
            "38/38 [==============================] - 2s 60ms/step - loss: 0.0013\n",
            "Epoch 92/100\n",
            "38/38 [==============================] - 2s 61ms/step - loss: 0.0012\n",
            "Epoch 93/100\n",
            "38/38 [==============================] - 2s 61ms/step - loss: 0.0013\n",
            "Epoch 94/100\n",
            "38/38 [==============================] - 2s 61ms/step - loss: 0.0012\n",
            "Epoch 95/100\n",
            "38/38 [==============================] - 2s 60ms/step - loss: 0.0012\n",
            "Epoch 96/100\n",
            "38/38 [==============================] - 2s 61ms/step - loss: 0.0013\n",
            "Epoch 97/100\n",
            "38/38 [==============================] - 2s 61ms/step - loss: 0.0012\n",
            "Epoch 98/100\n",
            "38/38 [==============================] - 2s 61ms/step - loss: 0.0012\n",
            "Epoch 99/100\n",
            "38/38 [==============================] - 2s 60ms/step - loss: 0.0012\n",
            "Epoch 100/100\n",
            "38/38 [==============================] - 2s 60ms/step - loss: 0.0011\n"
          ]
        },
        {
          "output_type": "execute_result",
          "data": {
            "text/plain": [
              "<keras.callbacks.History at 0x7f8bed3d5650>"
            ]
          },
          "metadata": {},
          "execution_count": 3
        }
      ]
    },
    {
      "cell_type": "code",
      "source": [
        "dataset_test = dataset_train = dataset.iloc[int(len(dataset)*(1 - test_size)):,:]\n",
        "real_aqi=dataset_test[['Avg_AQI']].values\n"
      ],
      "metadata": {
        "id": "IdsC-hy569mM"
      },
      "execution_count": null,
      "outputs": []
    },
    {
      "cell_type": "code",
      "source": [
        "dataset_total = pd.concat((dataset_train['Avg_AQI'], dataset_test['Avg_AQI']), axis = 0)\n",
        "inputs = dataset_total[len(dataset_total) - len(dataset_test) - 60:].values\n",
        "inputs = inputs.reshape(-1,1)\n",
        "inputs = sc.transform(inputs)\n",
        "X_test = []\n",
        "for i in range(60, 80):\n",
        "    X_test.append(inputs[i-60:i, 0])\n",
        "X_test = np.array(X_test)\n",
        "X_test = np.reshape(X_test, (X_test.shape[0], X_test.shape[1], 1))\n",
        "predicted_aqi = regressor.predict(X_test)\n",
        "predicted_aqi = sc.inverse_transform(predicted_aqi)"
      ],
      "metadata": {
        "id": "ryE1VuXb8go8"
      },
      "execution_count": null,
      "outputs": []
    },
    {
      "cell_type": "code",
      "source": [
        "plt.plot(real_aqi, color = 'red', label = 'Real forcasting')\n",
        "plt.plot(predicted_aqi, color = 'blue', label = 'Predicted forcasting')\n",
        "plt.title('forcasting')\n",
        "plt.xlabel('Time')\n",
        "plt.ylabel('forcasting')\n",
        "plt.legend()\n",
        "plt.show()"
      ],
      "metadata": {
        "colab": {
          "base_uri": "https://localhost:8080/",
          "height": 295
        },
        "id": "BZAiBJQH8vT8",
        "outputId": "e2285863-18b2-4fd6-a330-948b35afc2ae"
      },
      "execution_count": null,
      "outputs": [
        {
          "output_type": "display_data",
          "data": {
            "text/plain": [
              "<Figure size 432x288 with 1 Axes>"
            ],
            "image/png": "[encoded data removed]"
          },
          "metadata": {
            "needs_background": "light"
          }
        }
      ]
    },
    {
      "cell_type": "code",
      "source": [
        "print(predicted_aqi)"
      ],
      "metadata": {
        "id": "6iGuRPr9-aSa",
        "colab": {
          "base_uri": "https://localhost:8080/"
        },
        "outputId": "72ae8b72-0d4d-4bc2-a925-a6ae211543d3"
      },
      "execution_count": null,
      "outputs": [
        {
          "output_type": "stream",
          "name": "stdout",
          "text": [
            "[[23.627384]\n",
            " [23.678034]\n",
            " [23.632084]\n",
            " [23.487177]\n",
            " [23.286127]\n",
            " [23.086615]\n",
            " [22.943714]\n",
            " [22.884018]\n",
            " [22.912289]\n",
            " [23.006775]\n",
            " [23.139383]\n",
            " [23.276678]\n",
            " [23.39794 ]\n",
            " [23.49858 ]\n",
            " [23.584763]\n",
            " [23.656609]\n",
            " [23.708445]\n",
            " [23.74405 ]\n",
            " [23.766499]\n",
            " [23.777025]]\n"
          ]
        }
      ]
    }
  ],
  "metadata": {
    "accelerator": "GPU",
    "colab": {
      "name": "AQI_Prediction.ipynb",
      "provenance": []
    },
    "kernelspec": {
      "display_name": "Python 3",
      "name": "python3"
    },
    "language_info": {
      "name": "python"
    }
  },
  "nbformat": 4,
  "nbformat_minor": 0
}